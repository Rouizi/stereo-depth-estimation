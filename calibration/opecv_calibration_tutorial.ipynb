{
 "cells": [
  {
   "cell_type": "markdown",
   "id": "e9faf387",
   "metadata": {},
   "source": [
    "https://docs.opencv.org/4.x/dc/dbb/tutorial_py_calibration.html"
   ]
  },
  {
   "cell_type": "code",
   "execution_count": 31,
   "id": "acd531cf",
   "metadata": {},
   "outputs": [
    {
     "data": {
      "text/plain": [
       "array([[0., 0., 0.],\n",
       "       [1., 0., 0.],\n",
       "       [2., 0., 0.],\n",
       "       [3., 0., 0.],\n",
       "       [4., 0., 0.],\n",
       "       [5., 0., 0.],\n",
       "       [6., 0., 0.],\n",
       "       [0., 1., 0.],\n",
       "       [1., 1., 0.],\n",
       "       [2., 1., 0.],\n",
       "       [3., 1., 0.],\n",
       "       [4., 1., 0.],\n",
       "       [5., 1., 0.],\n",
       "       [6., 1., 0.],\n",
       "       [0., 2., 0.],\n",
       "       [1., 2., 0.],\n",
       "       [2., 2., 0.],\n",
       "       [3., 2., 0.],\n",
       "       [4., 2., 0.],\n",
       "       [5., 2., 0.],\n",
       "       [6., 2., 0.],\n",
       "       [0., 3., 0.],\n",
       "       [1., 3., 0.],\n",
       "       [2., 3., 0.],\n",
       "       [3., 3., 0.],\n",
       "       [4., 3., 0.],\n",
       "       [5., 3., 0.],\n",
       "       [6., 3., 0.],\n",
       "       [0., 4., 0.],\n",
       "       [1., 4., 0.],\n",
       "       [2., 4., 0.],\n",
       "       [3., 4., 0.],\n",
       "       [4., 4., 0.],\n",
       "       [5., 4., 0.],\n",
       "       [6., 4., 0.],\n",
       "       [0., 5., 0.],\n",
       "       [1., 5., 0.],\n",
       "       [2., 5., 0.],\n",
       "       [3., 5., 0.],\n",
       "       [4., 5., 0.],\n",
       "       [5., 5., 0.],\n",
       "       [6., 5., 0.]], dtype=float32)"
      ]
     },
     "execution_count": 31,
     "metadata": {},
     "output_type": "execute_result"
    }
   ],
   "source": [
    "import numpy as np\n",
    "import cv2\n",
    "import glob\n",
    "\n",
    "# termination criteria\n",
    "criteria = (cv2.TERM_CRITERIA_EPS + cv2.TERM_CRITERIA_MAX_ITER, 30, 0.001)\n",
    "\n",
    "# prepare object points, like (0,0,0), (1,0,0), (2,0,0) ...,(6,5,0)\n",
    "objp = np.zeros((6*7,3), np.float32)\n",
    "objp[:, :2] = np.mgrid[0:7, 0:6].T.reshape(-1,2)\n",
    "objp"
   ]
  },
  {
   "cell_type": "code",
   "execution_count": 38,
   "id": "d960c89e",
   "metadata": {},
   "outputs": [
    {
     "data": {
      "text/plain": [
       "['opencv_images/left05.jpg',\n",
       " 'opencv_images/left06.jpg',\n",
       " 'opencv_images/left04.jpg',\n",
       " 'opencv_images/left13.jpg',\n",
       " 'opencv_images/left02.jpg',\n",
       " 'opencv_images/left01.jpg',\n",
       " 'opencv_images/left14.jpg',\n",
       " 'opencv_images/left09.jpg',\n",
       " 'opencv_images/left03.jpg',\n",
       " 'opencv_images/left11.jpg',\n",
       " 'opencv_images/left12.jpg',\n",
       " 'opencv_images/left08.jpg',\n",
       " 'opencv_images/left07.jpg']"
      ]
     },
     "execution_count": 38,
     "metadata": {},
     "output_type": "execute_result"
    }
   ],
   "source": [
    "# Arrays to store object points and image points from all images.\n",
    "objpoints = []  # 3d point in real world space\n",
    "imgpoints = []  # 2d points in image plane.\n",
    "\n",
    "# Load images\n",
    "images = glob.glob(\"opencv_images/*.jpg\")\n",
    "images"
   ]
  },
  {
   "cell_type": "code",
   "execution_count": 39,
   "id": "adb8836f",
   "metadata": {},
   "outputs": [],
   "source": [
    "for fname in images:\n",
    "    img = cv2.imread(fname)\n",
    "    gray = cv2.cvtColor(img, cv2.COLOR_BGR2GRAY)\n",
    "    \n",
    "    # Find the chess board corners\n",
    "    ret, corners = cv2.findChessboardCorners(gray, (7, 6), None)\n",
    "    \n",
    "    # If found, add object points, image points (after refining them)\n",
    "    if ret:\n",
    "        objpoints.append(objp)\n",
    "        corners2 = cv2.cornerSubPix(gray, corners, (11, 11), (-1, -1), criteria)\n",
    "        imgpoints.append(corners2)\n",
    "        \n",
    "        # Draw and display the corners\n",
    "        cv2.drawChessboardCorners(img, (7, 6), corners2, ret)\n",
    "        cv2.imshow('img', img)\n",
    "        cv2.waitKey(0)\n",
    "\n",
    "cv2.destroyAllWindows()"
   ]
  },
  {
   "cell_type": "code",
   "execution_count": 45,
   "id": "17c4d360",
   "metadata": {},
   "outputs": [],
   "source": [
    "ret, mtx, dist, rvecs, tvecs = cv2.calibrateCamera(objpoints, imgpoints, gray.shape[::-1], None, None)"
   ]
  },
  {
   "cell_type": "code",
   "execution_count": 47,
   "id": "27f20155",
   "metadata": {},
   "outputs": [
    {
     "data": {
      "text/plain": [
       "(0.15589875911312515,\n",
       " array([[534.15663137,   0.        , 341.71479627],\n",
       "        [  0.        , 534.25492559, 232.05013999],\n",
       "        [  0.        ,   0.        ,   1.        ]]),\n",
       " array([[-2.94269293e-01,  1.23247846e-01,  1.13850492e-03,\n",
       "         -1.38021877e-04,  1.02084832e-02]]),\n",
       " (array([[-0.30060119],\n",
       "         [ 0.39118933],\n",
       "         [-1.4350777 ]]),\n",
       "  array([[ 0.30616402],\n",
       "         [ 0.50226863],\n",
       "         [-1.82846255]]),\n",
       "  array([[ 0.41426793],\n",
       "         [ 0.65539281],\n",
       "         [-1.33764399]]),\n",
       "  array([[-0.43142634],\n",
       "         [ 0.25379395],\n",
       "         [-3.08884034]]),\n",
       "  array([[-0.174203  ],\n",
       "         [-0.46655317],\n",
       "         [ 1.34790242]]),\n",
       "  array([[-0.26431364],\n",
       "         [-0.39636863],\n",
       "         [-2.74760817]]),\n",
       "  array([[-0.24294096],\n",
       "         [ 0.35446819],\n",
       "         [ 1.5301419 ]]),\n",
       "  array([[-0.46015187],\n",
       "         [-0.08996193],\n",
       "         [-1.33519357]]),\n",
       "  array([[-0.32188588],\n",
       "         [ 0.15850432],\n",
       "         [-1.2418536 ]])),\n",
       " (array([[ 1.59827098],\n",
       "         [ 3.84026025],\n",
       "         [16.11813858]]),\n",
       "  array([[-1.22858929],\n",
       "         [ 3.54754803],\n",
       "         [15.66934941]]),\n",
       "  array([[-2.12840282],\n",
       "         [ 1.86676415],\n",
       "         [12.81016636]]),\n",
       "  array([[ 3.79289445],\n",
       "         [ 0.92423107],\n",
       "         [14.8637219 ]]),\n",
       "  array([[ 1.81488752],\n",
       "         [-4.24309024],\n",
       "         [12.4679797 ]]),\n",
       "  array([[3.03338862],\n",
       "         [2.76354199],\n",
       "         [9.89747627]]),\n",
       "  array([[ 2.04440416],\n",
       "         [-4.01741977],\n",
       "         [12.85465933]]),\n",
       "  array([[-3.2830451 ],\n",
       "         [ 2.17796206],\n",
       "         [11.72551618]]),\n",
       "  array([[-5.94817607],\n",
       "         [ 2.42536044],\n",
       "         [16.77660227]])))"
      ]
     },
     "execution_count": 47,
     "metadata": {},
     "output_type": "execute_result"
    }
   ],
   "source": [
    "ret, mtx, dist, rvecs, tvecs"
   ]
  },
  {
   "cell_type": "markdown",
   "id": "cc88da58",
   "metadata": {},
   "source": [
    "refine the camera matrix based on a free scaling parameter using cv.getOptimalNewCameraMatrix()."
   ]
  },
  {
   "cell_type": "code",
   "execution_count": 48,
   "id": "6974f64b",
   "metadata": {},
   "outputs": [],
   "source": [
    "img = cv2.imread('opencv_images/left12.jpg')\n",
    "h,  w = img.shape[:2]\n",
    "newcameramtx, roi = cv2.getOptimalNewCameraMatrix(mtx, dist, (w,h), 1, (w,h))"
   ]
  },
  {
   "cell_type": "code",
   "execution_count": 49,
   "id": "e0c4d13b",
   "metadata": {},
   "outputs": [
    {
     "data": {
      "text/plain": [
       "(array([[454.53841463,   0.        , 344.06575118],\n",
       "        [  0.        , 451.58184808, 232.63616417],\n",
       "        [  0.        ,   0.        ,   1.        ]]),\n",
       " (14, 24, 609, 431))"
      ]
     },
     "execution_count": 49,
     "metadata": {},
     "output_type": "execute_result"
    }
   ],
   "source": [
    "newcameramtx, roi"
   ]
  },
  {
   "cell_type": "markdown",
   "id": "e7a9dcd1",
   "metadata": {},
   "source": [
    "take an image and undistort it"
   ]
  },
  {
   "cell_type": "code",
   "execution_count": 50,
   "id": "387368d2",
   "metadata": {},
   "outputs": [
    {
     "data": {
      "text/plain": [
       "True"
      ]
     },
     "execution_count": 50,
     "metadata": {},
     "output_type": "execute_result"
    }
   ],
   "source": [
    "# undistort\n",
    "dst = cv2.undistort(img, mtx, dist, None, newcameramtx)\n",
    "\n",
    "# crop the image\n",
    "x, y, w, h = roi\n",
    "dst = dst[y:y+h, x:x+w]\n",
    "cv2.imwrite('calibresult.png', dst)"
   ]
  }
 ],
 "metadata": {
  "kernelspec": {
   "display_name": "yolov8",
   "language": "python",
   "name": "python3"
  },
  "language_info": {
   "codemirror_mode": {
    "name": "ipython",
    "version": 3
   },
   "file_extension": ".py",
   "mimetype": "text/x-python",
   "name": "python",
   "nbconvert_exporter": "python",
   "pygments_lexer": "ipython3",
   "version": "3.10.16"
  }
 },
 "nbformat": 4,
 "nbformat_minor": 5
}
